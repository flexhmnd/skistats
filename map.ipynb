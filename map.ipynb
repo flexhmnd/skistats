{
 "cells": [
  {
   "cell_type": "code",
   "execution_count": 19,
   "id": "7f706e49-ddbe-4248-b168-bd3d8df5827e",
   "metadata": {},
   "outputs": [],
   "source": [
    "import pandas as pd\n",
    "import plotly.express as px\n",
    "\n",
    "# Load your CSV with 'latitude', 'longitude', and 'name' columns\n",
    "df = pd.read_csv(\"ski_info.csv\")\n",
    "\n",
    "fig = px.scatter_geo(\n",
    "    df,\n",
    "    lat='latitude',\n",
    "    lon='longitude',\n",
    "    hover_name='name',\n",
    "    scope='usa',\n",
    "    projection='albers usa',\n",
    ")\n",
    "fig.update_traces(marker=dict(color='red'))\n",
    "\n",
    "\n",
    "# Clean and styled map\n",
    "fig.update_geos(\n",
    "    showland=True,\n",
    "    landcolor='white',\n",
    "    showcountries=False,\n",
    "    showcoastlines=True,\n",
    "    coastlinecolor=\"black\",\n",
    "    showlakes=True,\n",
    "    lakecolor=\"lightblue\",\n",
    "    showrivers=False,\n",
    "    showocean=False,\n",
    "    showframe=False,\n",
    "    subunitcolor=\"black\",  # state borders\n",
    "    countrycolor=\"black\"\n",
    ")\n",
    "\n",
    "fig.update_layout(\n",
    "    geo=dict(bgcolor='white'),\n",
    "    margin=dict(l=0, r=0, t=40, b=0)\n",
    ")\n",
    "\n",
    "fig.write_html(\"static/map_plot.html\")\n"
   ]
  },
  {
   "cell_type": "code",
   "execution_count": null,
   "id": "949f60d1-371e-4005-b4c5-a0b7591b1684",
   "metadata": {},
   "outputs": [],
   "source": []
  }
 ],
 "metadata": {
  "kernelspec": {
   "display_name": "Python 3 (ipykernel)",
   "language": "python",
   "name": "python3"
  },
  "language_info": {
   "codemirror_mode": {
    "name": "ipython",
    "version": 3
   },
   "file_extension": ".py",
   "mimetype": "text/x-python",
   "name": "python",
   "nbconvert_exporter": "python",
   "pygments_lexer": "ipython3",
   "version": "3.12.4"
  }
 },
 "nbformat": 4,
 "nbformat_minor": 5
}
