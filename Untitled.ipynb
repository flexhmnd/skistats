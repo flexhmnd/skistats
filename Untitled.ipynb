{
 "cells": [
  {
   "cell_type": "code",
   "execution_count": 7,
   "id": "550b2688-04fe-48bc-b951-80658e7d2590",
   "metadata": {},
   "outputs": [],
   "source": [
    "import pandas as pd\n",
    "\n",
    "df = pd.read_csv('ski_info.csv')\n",
    "\n",
    "df['nonprofit'] = df['nonprofit'].fillna('No')\n",
    "df['annual_snowfall'] = df['annual_snowfall'].astype('Int64')\n",
    "df['skiable_acres'] = df['skiable_acres'].astype('Int64')\n",
    "\n",
    "df.to_csv('ski_info_3.csv', index=False)"
   ]
  },
  {
   "cell_type": "code",
   "execution_count": null,
   "id": "ed78a59d-4589-42a8-a56d-7a6973cb459d",
   "metadata": {},
   "outputs": [],
   "source": []
  }
 ],
 "metadata": {
  "kernelspec": {
   "display_name": "venv",
   "language": "python",
   "name": "python3"
  },
  "language_info": {
   "codemirror_mode": {
    "name": "ipython",
    "version": 3
   },
   "file_extension": ".py",
   "mimetype": "text/x-python",
   "name": "python",
   "nbconvert_exporter": "python",
   "pygments_lexer": "ipython3",
   "version": "3.12.4"
  }
 },
 "nbformat": 4,
 "nbformat_minor": 5
}
